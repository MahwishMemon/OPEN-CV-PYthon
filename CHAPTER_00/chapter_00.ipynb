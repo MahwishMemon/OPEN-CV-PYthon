{
 "cells": [
  {
   "cell_type": "markdown",
   "metadata": {},
   "source": [
    "# ---**chapter_00--INTRODUCTION OF COMPUTER VISION IN PYTHON**---\n",
    "\n",
    "# ![[chapter_00.jpg]](chapter_00.jpg)\n",
    "---------------\n",
    "### **Computer Vision** \n",
    "Computer Vision is a field of study that deals with how computers can gain high-level understanding \n",
    "from digital images or videos. From the perspective of engineering, it seeks to automate tasks \n",
    "that the human visual system can do. \n",
    "\n",
    "### Some Tasks involved in Computer Vision:\n",
    "\n",
    "- Processing, analyzing and understanding digital images\n",
    "- Recognition of objects, faces, and scenes\n",
    "- Video Motion Analysis and Tracking \n",
    "- Image Restoration and Enhancement \n",
    "- Facial recognition and emotion detection \n",
    "- Human pose tracking and gesture recognition \n",
    "- Object detection and segmentation in images and videos\n",
    "- Pattern detection and recognition \n",
    "\n",
    "### Some Fields related to  Computer Vision:\n",
    "\n",
    "- Artificial Intelligence \n",
    "- Solid-state Physics \n",
    "- Neurobiology \n",
    "- Signal Processing \n",
    "- Statistics, Optimization, Geometry \n",
    "\n",
    "### Some Applications of Computer Vision: \n",
    "1. Medical Imaging \n",
    "2. Robotics\n",
    "3. Surveillance\n",
    "4. Augmented Reality\n",
    "5. Self-Driving Cars\n",
    "6. Face Recognition\n",
    "7. Image Search\n",
    "\n",
    "\n",
    "### Installing OpenCV in Python:\n",
    "open new terminal in visual studio code then \n",
    "write\n",
    "> pip install opencv-python (for windows users)\n",
    "> \n",
    "> pip3 install opencv-python (for linux users) \n",
    "\n",
    "\n"
   ]
  }
 ],
 "metadata": {
  "kernelspec": {
   "display_name": "Python 3.9.6 64-bit",
   "language": "python",
   "name": "python3"
  },
  "language_info": {
   "name": "python",
   "version": "3.9.6"
  },
  "orig_nbformat": 4,
  "vscode": {
   "interpreter": {
    "hash": "f6246b25e200e4c5124e3e61789ac81350562f0761bbcf92ad9e48654207659c"
   }
  }
 },
 "nbformat": 4,
 "nbformat_minor": 2
}
