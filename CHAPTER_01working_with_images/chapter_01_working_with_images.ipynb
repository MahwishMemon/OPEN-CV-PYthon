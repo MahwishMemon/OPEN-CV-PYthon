{
 "cells": [
  {
   "cell_type": "markdown",
   "metadata": {},
   "source": [
    "\n",
    "\n",
    "# ----**chapter_01-----WORKING WITH IMAGES**-----\n",
    "\n",
    "# ![[chapter_01.png]](chapter_01.png)\n",
    "---------------------\n",
    "### **TABLE OF CONTENTS**\n",
    "\n",
    "- [1.1 Reading an Image](#11-reading-an-image)\n",
    "- [1.2 Displaying an Image](#12-displaying-an-image)\n",
    "- [1.3 Resizing an Image](#13-resizing-an-image)\n",
    "- [1.4 Writing an Image](#14-writing-an_Image)\n",
    "- [1.5 Color Conversion of Image](#15-color-conversion-of-image)\n",
    "- [1.6 Basic Manipulation in OpenCV ](#16-basic-manipulation-in-opencv)\n",
    "- [1.7 Basic Manipulation in With Canvas (Plan White or Plan Black Image)](#17-basic-manipulation-on-canvas-plan-white-or-plan-black-image)\n",
    "- [1.8 Joining Two Images](#18-joining-two-images)\n",
    "- [1.9 Face Detection in an Image](#19-face-detection-in-an-image)\n",
    "- [1.10 Getting Co-ordinates and Colors from Image using Mouse Clicks (Left and Right Mouse Clicks)](#110-getting-co-ordinates-and-colors-from-image-using-mouse-clicks-left-and-right-mouse-clicks)\n",
    "- [1.11 Image Perspective Warp while using co_ordinates ](#111-image-perspective-warp-while-using-coordinates)\n",
    "- [1.12  Flip and Rotation an Image ](#112-flip-and-rotation-an-image)\n",
    "- [-----------SUMMARY  -----------](#summary)\n",
    "            \n",
    "----------------            \n",
    "**We will use the following images to demonstrate all the functions in Chapter_01**\n",
    "\n",
    "1.  click [here](image_cv_01.jpg) to download (image_cv_01.jpg) image\n",
    "2.  click [here](image_01.jpg) to download (image_01.jpg) image\n",
    "3.  click [here](image_02.jpg) to download (image_02.jpg) image\n",
    "4.  click [here](haarcascade_frontalface_default.xml) to download  CascadeClassifier for image detection (\"haarcascade_frontalface_default.xml\")\n",
    "5.  click [here](wrap_image.jpg) to download (wrap_image.jpg) image\n",
    "6.  click [here](faces.jpg) to download (faces.jpg) image\n"
   ]
  },
  {
   "cell_type": "markdown",
   "metadata": {},
   "source": [
    "----------------\n",
    "> #### 1.1 Reading an Image"
   ]
  },
  {
   "cell_type": "code",
   "execution_count": 13,
   "metadata": {},
   "outputs": [],
   "source": [
    "# import the cv2 and numpy libraries\n",
    "import cv2 as cv\n",
    "import numpy as np \n",
    "\n",
    "# Read an image from you file where you saved it (give complete path)\n",
    "img=cv.imread(\"image_cv_01.jpg\")\n"
   ]
  },
  {
   "cell_type": "markdown",
   "metadata": {},
   "source": [
    "> #### 1.2 Displaying an Image"
   ]
  },
  {
   "cell_type": "code",
   "execution_count": 14,
   "metadata": {},
   "outputs": [],
   "source": [
    "# display the image \n",
    "cv.imshow(\"Original Image\", img)\n",
    "\n",
    "# delay code \n",
    "cv.waitKey(0)\n",
    "cv.destroyAllWindows()"
   ]
  },
  {
   "cell_type": "markdown",
   "metadata": {},
   "source": [
    "> The waitKey() \n",
    "- It is single argument, which is the time (in milliseconds), for which the window will be displayed.\n",
    "- If you presses any key during display the program continues.\n",
    "- If you press 0, the program waits and indefinitely for a keystroke.\n",
    "- for specific keystrokes You can also set the function like the Q key or the ESC key on the keyboard.furthure we will dicuss about this in chapter_02 \n",
    "\n",
    "> destroyAllWindows()\n",
    "- This function destroys all the windows you created. Using destroyAllWindows() you can also clears the window or image from the main memory of the system.\n",
    "\n",
    "> #### 1.3 Resizing an Image"
   ]
  },
  {
   "cell_type": "code",
   "execution_count": 16,
   "metadata": {},
   "outputs": [],
   "source": [
    "# import the cv2 and numpy libraries\n",
    "import cv2 as cv\n",
    "import numpy as np \n",
    "\n",
    "# Read an image from you file where you saved it (give complete path)\n",
    "img=cv.imread(\"image_cv_01.jpg\")\n",
    "\n",
    "# resize original image \n",
    "img_resized=cv.resize(img, (750,450)) # you can insert your dimensions of figure \n",
    "\n",
    "# display the image \n",
    "cv.imshow(\"Original Image\", img)\n",
    "cv.imshow(\"Resized Image\", img_resized)\n",
    "\n",
    "# delay code \n",
    "cv.waitKey(0)\n",
    "cv.destroyAllWindows()"
   ]
  },
  {
   "cell_type": "markdown",
   "metadata": {},
   "source": [
    "> #### 1.4 Writing an Image\n",
    "> Method 01 - Witing/saving original image to system "
   ]
  },
  {
   "cell_type": "code",
   "execution_count": 17,
   "metadata": {},
   "outputs": [],
   "source": [
    "# import the cv2 and numpy libraries\n",
    "import cv2 as cv\n",
    "import numpy as np \n",
    "\n",
    "# Read an image from you file where you saved it (give complete path)\n",
    "img=cv.imread(\"image_cv_01.jpg\")\n",
    "\n",
    "# writing the image into system as(Image_cv_02)\n",
    "from cv2 import imwrite\n",
    "imwrite(\"Image_cv_02.png\", img_resized)\n",
    "\n",
    "# display the image \n",
    "cv.imshow(\"Original Image\", img)\n",
    "\n",
    "# delay code \n",
    "cv.waitKey(0)\n",
    "cv.destroyAllWindows()"
   ]
  },
  {
   "cell_type": "markdown",
   "metadata": {},
   "source": [
    "> Method 02 - Witing/saving resized image to system "
   ]
  },
  {
   "cell_type": "code",
   "execution_count": 18,
   "metadata": {},
   "outputs": [],
   "source": [
    "# import the cv2 and numpy libraries\n",
    "import cv2 as cv\n",
    "import numpy as np \n",
    "\n",
    "# Read an image from you file where you saved it (give complete path)\n",
    "img=cv.imread(\"image_cv_01.jpg\")\n",
    "\n",
    "# resize original image \n",
    "img=cv.resize(img, (600,400)) # you can insert your dimensions of figure \n",
    "\n",
    "# writing the image into system as(Image_resized)\n",
    "from cv2 import imwrite\n",
    "imwrite(\"Image_resized.png\", img)\n",
    "\n",
    "# display the resized image \n",
    "cv.imshow(\"Resized Image\", img)\n",
    "\n",
    "# delay code \n",
    "cv.waitKey(0)\n",
    "cv.destroyAllWindows()"
   ]
  },
  {
   "cell_type": "markdown",
   "metadata": {},
   "source": [
    "> #### 1.5 Color Conversion of Image \n",
    "> Method 01 - Color Conversion into Grayscale"
   ]
  },
  {
   "cell_type": "code",
   "execution_count": 19,
   "metadata": {},
   "outputs": [],
   "source": [
    "# import the cv2 and numpy libraries\n",
    "import cv2 as cv\n",
    "import numpy as np \n",
    "\n",
    "# Read an image from you file where you saved it (give complete path)\n",
    "img=cv.imread(\"image_cv_01.jpg\")\n",
    "\n",
    "# color conversion of image to grayscale\n",
    "from cv2 import cvtColor\n",
    "gray_img= cvtColor(img, cv.COLOR_BGR2GRAY)\n",
    "\n",
    "# display the Original image \n",
    "cv.imshow(\"Original Image\", img)\n",
    "\n",
    "# display the Grayscal image \n",
    "cv.imshow(\"Grayscale Image\", gray_img)\n",
    "\n",
    "# delay code \n",
    "cv.waitKey(0)\n",
    "cv.destroyAllWindows()"
   ]
  },
  {
   "cell_type": "markdown",
   "metadata": {},
   "source": [
    "> Method 02 - Color Conversion into Binary (Black i-e 0 & White i-e 1) from grayscale image "
   ]
  },
  {
   "cell_type": "code",
   "execution_count": 20,
   "metadata": {},
   "outputs": [],
   "source": [
    "# import the cv2 and numpy libraries\n",
    "import cv2 as cv\n",
    "import numpy as np \n",
    "\n",
    "# Read an image from you file where you saved it (give complete path)\n",
    "img=cv.imread(\"image_cv_01.jpg\")\n",
    "\n",
    "# color conversion of image to grayscale\n",
    "from cv2 import cvtColor\n",
    "gray_img= cvtColor(img, cv.COLOR_BGR2GRAY)\n",
    "\n",
    "# color conversion of image to Black & White\n",
    "from cv2 import threshold\n",
    "(thresh, Black_White_image)= cv.threshold (gray_img, 225, 244, cv.THRESH_BINARY) # here 225 and 244 are gray shades for black and white image \n",
    "\n",
    "# Display images \n",
    "cv.imshow(\"Original Image\", img)# display the Original image \n",
    "cv.imshow(\"Grayscale Image\", gray_img)# display the Grayscal image\n",
    "cv.imshow(\"Black & White Image\", Black_White_image)# display the Black & White image\n",
    "\n",
    "# delay code \n",
    "cv.waitKey(0)\n",
    "cv.destroyAllWindows()"
   ]
  },
  {
   "cell_type": "markdown",
   "metadata": {},
   "source": [
    "> ####  1.6 Basic Manipulation in OpenCV\n",
    "\n",
    "- Read Image \n",
    "- Resize Image \n",
    "- Crop Image\n",
    "- Color changing of Image (Gray , Black and White)\n",
    "- Blurr Image \n",
    "- Edge Image \n",
    "- Dialate Image  (Thickness, Thinner)  "
   ]
  },
  {
   "cell_type": "code",
   "execution_count": 21,
   "metadata": {},
   "outputs": [
    {
     "name": "stdout",
     "output_type": "stream",
     "text": [
      "The size of resized image is: (500, 800, 3)\n"
     ]
    }
   ],
   "source": [
    "# import the cv2 and numpy libraries\n",
    "import cv2 as cv\n",
    "import numpy as np \n",
    "\n",
    "# Read an image from you file where you saved it (give complete path)\n",
    "img=cv.imread(\"image_cv_01.jpg\")\n",
    "\n",
    "# resize original image \n",
    "img_resized=cv.resize(img, (800,500)) # you can insert your dimensions of figure \n",
    "\n",
    "# cropping the Image\n",
    "print(\"The size of resized image is:\", img_resized.shape)\n",
    "cropped_img= img_resized[20:150, 10:300] # height(y), wirth(x)\n",
    "\n",
    "# color conversion of resized_image to grayscale\n",
    "from cv2 import cvtColor\n",
    "gray_img= cvtColor(img_resized, cv.COLOR_BGR2GRAY)\n",
    "\n",
    "# color conversion of gray_image to Black & White\n",
    "from cv2 import threshold\n",
    "(thresh, Black_White_image)= cv.threshold (gray_img, 225, 244, cv.THRESH_BINARY) \n",
    "\n",
    "# Blurring the Resized_Image \n",
    "blurr_image= cv.GaussianBlur(img_resized, (9,9),0)\n",
    "\n",
    "# Edge dtection of Resized_Image \n",
    "Edge_image= cv.Canny(img_resized, 52,52)\n",
    "\n",
    "# Thickness of Edges \n",
    "dilated_image= cv.dilate(Edge_image, (7,7), iterations=1)\n",
    "\n",
    "# For higher Thickness of Edges crate a function \n",
    "mat_kernal= np.ones((3,3), np.uint8)\n",
    "dilated_image_HT= cv.dilate(Edge_image, (mat_kernal), iterations=2)\n",
    "\n",
    "# For higher Thinner outlines\n",
    "ero_img= cv.erode(dilated_image_HT, mat_kernal, iterations=1) \n",
    "\n",
    "#display all images \n",
    "cv.imshow(\"Original Image\", img)\n",
    "cv.imshow(\"Resized Image\", img_resized)\n",
    "cv.imshow(\"Gray Image\", gray_img)\n",
    "cv.imshow(\"Black and White Image\", Black_White_image)\n",
    "cv.imshow(\"Blurred Image\", blurr_image)\n",
    "cv.imshow(\"Edge Image\", Edge_image)\n",
    "cv.imshow(\"Dilated Edge Image\", dilated_image)\n",
    "cv.imshow(\"Dilated Edge with higher thickness\", dilated_image_HT)\n",
    "cv.imshow(\"Errosion Image\", ero_img)\n",
    "cv.imshow(\"Cropped Image\", cropped_img)\n",
    "\n",
    "# delay code \n",
    "cv.waitKey(0)\n",
    "cv.destroyAllWindows()"
   ]
  },
  {
   "cell_type": "markdown",
   "metadata": {},
   "source": [
    "> ####  1.7 Basic Manipulation on Canvas (Plan White or Plan Black Image)\n",
    "\n",
    "- Draw Canvas (Black Image)\n",
    "- Draw Canvas (White Image) \n",
    "- Adding Color to Canvas\n",
    "- Adding line to Canvas\n",
    "- Adding Rectangule to Canvas\n",
    "- Adding Circle to Canvas\n",
    "- Adding Text to Canvas"
   ]
  },
  {
   "cell_type": "code",
   "execution_count": 25,
   "metadata": {},
   "outputs": [
    {
     "name": "stdout",
     "output_type": "stream",
     "text": [
      "The size of canvas is: (600, 600)\n"
     ]
    }
   ],
   "source": [
    "# import libraries \n",
    "import numpy as np\n",
    "import cv2 as cv\n",
    "\n",
    "# Draw a canvas( plan black and white picture)\n",
    "img_Black = np.zeros((600,600)) # black\n",
    "img_White = np.ones((600,600)) # white\n",
    "\n",
    "# to cheak size of canvas\n",
    "print(\"The size of canvas is:\",img_Black.shape)\n",
    "\n",
    "#Adding colour to canvas ( plan black or in white picture)\n",
    "colored_canvas = np.zeros((600,600,3), np.uint8) #addition of color chaneel\n",
    "colored_canvas[:] = 0,50,300   # Color fill in complete picture BGR\n",
    "colored_canvas[200:500, 100:400] = 0,100,0  # Color fill in part of  picture BGR\n",
    "\n",
    "# Adding line to canvas picture\n",
    "cv.line(colored_canvas, (300,0), (67,600), (200,0,0), 3)\n",
    "# cv.line(colored_canvas, (colored_canvas.min(),colored_canvas.min()), (colored_canvas.shape[0],colored_canvas.shape[0]), (0,0,0), 3)\n",
    "# cv.line(colored_canvas, (0,0), (colored_canvas.shape[0],colored_canvas.shape[0]), (680,20,100), 3)\n",
    "\n",
    "# Adding rectangles \n",
    "cv.rectangle(colored_canvas, (59,300), (400,450), (255,0,255), 3)  # without fill\n",
    "cv.rectangle(colored_canvas, (50,100), (300,400), (255,255,955), cv.FILLED)  # with fill\n",
    "\n",
    "# Adding Circle\n",
    "cv.circle(colored_canvas, (450,300), 55, (0,0,255), 5)  # without fill\n",
    "cv.circle(colored_canvas, (500,400), 60, (0,0,255), cv.FILLED)  # with fill\n",
    "\n",
    "# Adding Text\n",
    "cv.putText(colored_canvas,\"OpenCV with Mahwish Memon\", (0,200), cv.FONT_ITALIC, 1 , (0,44,440), 2)\n",
    "\n",
    "#display all images \n",
    "cv.imshow(\"Black Image\", img_Black)\n",
    "cv.imshow(\"White Image\", img_White)\n",
    "cv.imshow(\"Colored picture \", colored_canvas)\n",
    "\n",
    "\n",
    "# delay code \n",
    "cv.waitKey(0)\n",
    "cv.destroyAllWindows()"
   ]
  },
  {
   "cell_type": "markdown",
   "metadata": {},
   "source": [
    "> ####  1.8 Joining two Images \n",
    "\n",
    "> Method 01 - Combining same sized images "
   ]
  },
  {
   "cell_type": "code",
   "execution_count": 13,
   "metadata": {},
   "outputs": [
    {
     "name": "stdout",
     "output_type": "stream",
     "text": [
      "error\n"
     ]
    }
   ],
   "source": [
    "# import libraries \n",
    "import numpy as np \n",
    "import cv2 as cv\n",
    "\n",
    "# read image from data file \n",
    "img1=cv.imread(\"image_01.jpg\")\n",
    "img2=cv.imread(\"image_02.jpg\")\n",
    "\n",
    "# resize images \n",
    "img_1=cv.resize(img1, (500,500))\n",
    "img_2=cv.resize(img2, (500,500))\n",
    "\n",
    "# Define function for Stacking Same Size Images\n",
    "def stacking_same(img_1, img_2, stack):\n",
    "    if stack == \"h\":\n",
    "        horizontal = np.hstack((img_1, img_2))\n",
    "        cv.imshow(\"Horizontal\", horizontal)\n",
    "    if stack == \"v\":\n",
    "        vertical = np.vstack((img_1, img_2))\n",
    "        cv.imshow(\"Vertical\", vertical)\n",
    "    else:\n",
    "        print(\"error\")\n",
    "           \n",
    "# call function for stacking images of same size \n",
    "stacking_same(img_2, img_2, \"h\")\n",
    "stacking_same(img_1, img_1, \"v\")\n",
    "\n",
    "\n",
    "cv.waitKey(0)\n",
    "cv.destroyAllWindows()"
   ]
  },
  {
   "cell_type": "markdown",
   "metadata": {},
   "source": [
    "> Method 02 - Combining diferent sized  images "
   ]
  },
  {
   "cell_type": "code",
   "execution_count": 10,
   "metadata": {},
   "outputs": [],
   "source": [
    "# import libraries \n",
    "import numpy as np \n",
    "import cv2 as cv\n",
    "\n",
    "# read image from data file \n",
    "img1=cv.imread(\"image_01.jpg\")\n",
    "img2=cv.imread(\"image_02.jpg\")\n",
    "\n",
    "# resize images \n",
    "# img_1=cv.resize(img1, (500,500))\n",
    "# img_2=cv.resize(img2, (400,450))\n",
    "\n",
    "\n",
    "# defining function for Stacking Different Sized Images\n",
    "def stacking_diff(img1, img2, stack):\n",
    "    v1 = img1.shape[1]\n",
    "    v2 = img2.shape[1]\n",
    "    h1 = img1.shape[0]\n",
    "    h2 = img2.shape[0]\n",
    "    vv = max(v1, v2)\n",
    "    hh = max(h1, h2)\n",
    "    if stack == \"h\":\n",
    "        img_1 = cv.copyMakeBorder(img1, 0, hh-h1, 0, 0, borderType=cv.BORDER_CONSTANT, value=(255,255,255,0))\n",
    "        img_2 = cv.copyMakeBorder(img2, 0, hh-h2, 0, 0, borderType=cv.BORDER_CONSTANT, value=(255,255,255,0))\n",
    "        horizontal = cv.hconcat([img_1, img_2])\n",
    "        cv.imshow(\"Horizontal Image Stacking of Different Sizes\", horizontal)\n",
    "    else: \n",
    "        img_1 = cv.copyMakeBorder(img1, 0, 0, 0,vv-v1, borderType=cv.BORDER_CONSTANT, value=(255,255,255,0))\n",
    "        img_2 = cv.copyMakeBorder(img2, 0, 0, 0,vv-v2, borderType=cv.BORDER_CONSTANT, value=(255,255,255,0))\n",
    "        vertical = cv.vconcat([img_1, img_2])\n",
    "        cv.imshow(\"Vertical Image Stacking of Different Sizes\", vertical)\n",
    "        \n",
    "        \n",
    "# call function for stacking images of same size \n",
    "stacking_diff(img1, img2, \"h\")\n",
    "stacking_diff(img1, img2, \"V\")\n",
    "\n",
    "cv.waitKey(0)\n",
    "cv.destroyAllWindows()"
   ]
  },
  {
   "cell_type": "markdown",
   "metadata": {},
   "source": [
    "> ####  1.9 Face Detection in an Image "
   ]
  },
  {
   "cell_type": "code",
   "execution_count": 18,
   "metadata": {},
   "outputs": [],
   "source": [
    "# Import Libraries \n",
    "import cv2 as cv\n",
    "import numpy as np\n",
    "\n",
    "# face detection model \n",
    "face_cascade = cv.CascadeClassifier(\"haarcascade_frontalface_default.xml\")\n",
    "# read image \n",
    "img = cv.imread(\"faces.jpg\")\n",
    "# resize image \n",
    "img = cv.resize(img, (800,680))\n",
    "# make grayscale image of original\n",
    "gray_img = cv.cvtColor(img, cv.COLOR_BGR2GRAY)\n",
    "# detect face on gray image \n",
    "faces = face_cascade.detectMultiScale(gray_img, 1.1 ,8)\n",
    "\n",
    "# Draw a Rectangle\n",
    "for (x,y,w,h) in faces:\n",
    "    cv.rectangle(img, (x,y), (x+w, y+h), (0,0,255), 2)\n",
    "\n",
    "cv.imshow(\"Face\", img)\n",
    "cv.waitKey(0)\n",
    "cv.destroyAllWindows()"
   ]
  },
  {
   "cell_type": "markdown",
   "metadata": {},
   "source": [
    "> ####  1.10 Getting Co-ordinates and Colors from Image using Mouse Clicks (Left and Right Mouse Clicks )"
   ]
  },
  {
   "cell_type": "code",
   "execution_count": 2,
   "metadata": {},
   "outputs": [
    {
     "name": "stdout",
     "output_type": "stream",
     "text": [
      "44   20\n",
      "254   32\n",
      "36   213\n",
      "238   263\n"
     ]
    }
   ],
   "source": [
    "# import libraries \n",
    "import numpy as np \n",
    "import cv2 as cv\n",
    "\n",
    "# defining a function to find co_ordinates of image with left mouse click and BGR color of image with right mouse clicks\n",
    "def Click_event(event, x, y, flags, params):\n",
    "\n",
    "    if event == cv.EVENT_LBUTTONDOWN:          # checking for left mouse clicks\n",
    "        \n",
    "        # displaying the coordinates on the Shell(\n",
    "        print(x, ' ', y)\n",
    "        # displaying the coordinates on the image window\n",
    "        cv.putText(img, str(x) + ',' + str(y), (x,y), cv.FONT_HERSHEY_SIMPLEX , 2/3 , (255,333, 0), 2)\n",
    "        # show text over image\n",
    "        cv.imshow('image', img)\n",
    "          \n",
    "    # defining a function to get  BGR color of image with right mouse clicks    \n",
    "    \n",
    "    elif event==cv.EVENT_RBUTTONDOWN:                 # checking for Right mouse clicks\n",
    "        \n",
    "        # displaying the coordinates on the Shell\n",
    "        print(x, ' ', y)\n",
    "        # displaying the coordinates on the image window\n",
    "        b = img[y, x, 0] # blue \n",
    "        g = img[y, x, 1] # green \n",
    "        r = img[y, x, 2] # red\n",
    "        cv.putText(img, str(b) + ',' + str(g) + ',' + str(r), (x,y), cv.FONT_HERSHEY_DUPLEX , 2/3, (55, 25, 55), 2)\n",
    "        cv.imshow('image', img)\n",
    "\n",
    "# final function to read and display the image \n",
    "if __name__ == \"__main__\":\n",
    "    # read image from file  \n",
    "    img1 = cv.imread(\"wrap_image.jpg\")\n",
    "    # resize image \n",
    "    img= cv.resize(img1, (500,500))\n",
    "    # display  original image\n",
    "    cv.imshow(\"image\",img)\n",
    "# calling the function which you define for coordinates and color \n",
    "    #cv.setMouseCallback('final_image', Click_event)\n",
    "    cv.setMouseCallback('image', Click_event)\n",
    "# wait for a key to be pressed to exit\n",
    "cv.waitKey(0)\n",
    "# close the window\n",
    "cv.destroyAllWindows()"
   ]
  },
  {
   "cell_type": "markdown",
   "metadata": {},
   "source": [
    "> ####  1.11 Image Perspective Warp while using co_ordinates "
   ]
  },
  {
   "cell_type": "code",
   "execution_count": 6,
   "metadata": {},
   "outputs": [],
   "source": [
    "# import libraries \n",
    "import numpy as np  \n",
    "import cv2 as cv \n",
    "\n",
    " # read image from file  \n",
    "img1 = cv.imread(\"wrap_image.jpg\")\n",
    "# resize image \n",
    "img= cv.resize(img1, (600,600))\n",
    "\n",
    "# Defining Points\n",
    "width, height = 600, 600\n",
    "point1 = np.float32([[53,23], [305,34],[47,255],[282,312] ])   # 4 points of original image\n",
    "point2 = np.float32([[0,0], [width,0], [0, height], [width, height]]) # 4 points of final image\n",
    "\n",
    "matrix = cv.getPerspectiveTransform(point1, point2) # matrix for transformation\n",
    "\n",
    "out_img = cv.warpPerspective (img, matrix, (width, height)) # final image \n",
    "\n",
    "# show images \n",
    "cv.imshow(\"Original image\", img)\n",
    "cv.imshow(\"Transformed Image\",out_img)\n",
    "\n",
    "\n",
    "cv.waitKey(0) # wait for a key to be pressed to exit\n",
    "cv.destroyAllWindows() # close the window"
   ]
  },
  {
   "cell_type": "markdown",
   "metadata": {},
   "source": [
    "> ####  1.12  Flip and Rotation an Image "
   ]
  },
  {
   "cell_type": "code",
   "execution_count": 8,
   "metadata": {},
   "outputs": [],
   "source": [
    "# import libraries \n",
    "import numpy as np \n",
    "import cv2 as cv\n",
    "\n",
    "# read image from file  \n",
    "img1 = cv.imread(\"image_01.jpg\")\n",
    "# resize image \n",
    "img= cv.resize(img1, (600,600)) \n",
    "\n",
    "# flip and rotate images \n",
    "image = cv.flip(img, 0)                        # flip image vertically\n",
    "image1= cv.rotate(img, cv.ROTATE_90_CLOCKWISE) # rotate image 90 degree clockwise\n",
    "# show images\n",
    "cv.imshow(\"Original image\", img)\n",
    "cv.imshow(\"Flip Image\",image)\n",
    "cv.imshow(\"Rotate Image\",image1)\n",
    "\n",
    "# wait for a key to be pressed to exit\n",
    "cv.waitKey(0)\n",
    "# close the window\n",
    "cv.destroyAllWindows()"
   ]
  },
  {
   "cell_type": "markdown",
   "metadata": {},
   "source": [
    " # SUMMARY \n",
    "> **Libraries used in this chapter** \n",
    "- numpy as np  (for numerical calculations)\n",
    "- cv2 as cv    (for image processing )\n",
    " \n",
    "> **Functions Used in this chapter** \n",
    "- The cv.imread() function is used to read an image.\n",
    "- The cv.imshow() function is used to display an image in a window.\n",
    "- The cv.imwrite() function is used to write an image.\n",
    "- The cv.flip() function is used to flip an image.\n",
    "- The cv.rotate() function is used to rotate an image.\n",
    "- The cv.resize() function is used to resize an image for batter view.\n",
    "- The cv.warpPerspective() function is used for transformation of an image.\n",
    "- The cv.EVENT_LBUTTONDOWN() function is used for checking left mouse clicks function is used to get coordinates of an image.\n",
    "- The cv.EVENT_RBUTTONDOWN() function is used for checking right mouse clicks function is used to get BGR color of an image.\n",
    "- The cv.putText() function is used to show text over an image.\n",
    "- The cv.setMouseCallback() function is used to call a function when mouse is clicked.\n",
    "- The cv.getPerspectiveTransform() function is used to get matrix for transformation of an image.\n",
    "- The cv.CascadeClassifier() function is used to detect faces in an image.\n",
    "- The cv.rectangle() function is used to draw a rectangle on an image.\n",
    "- The cv.cvtColor() function is used to convert an image to grayscale.\n",
    "- The cv.hconcat() function is used to stack images horizontally.\n",
    "- The cv.vconcat() function is used to stack images vertically.\n",
    "- The cv.destroyAllWindows() function is used to simply destroys all the windows we created.\n",
    "- The cv.waitkey() function is used to wait untill any key pressed to exit \n",
    "\n",
    "> **Key Points**\n",
    "- Images are stored in the form of pixels.\n",
    "- Images can be read, displayed, and written to files.\n",
    "- Images can be flipped and rotated.\n",
    "- Images can be resized.\n",
    "- Images can be transformed. \n",
    "- Images can be displayed with coordinates and BGR color.\n",
    "- Images can be stacked horizontally and vertically.\n",
    "- Images can be detected for faces. \n",
    "\n",
    "\n",
    "> **Conclusion**\n",
    "- In this chapter, \n",
    "  - we learned how to read, display, and write images. \n",
    "  - We learned how to flip and rotate images. We learned how to resize images.\n",
    "  - We learned how to transform images. We learned how to display images with coordinates and BGR color. \n",
    "  - We learned how to stack images horizontally and vertically. We learned how to detect faces in images.\n",
    "\n",
    "\n",
    "> **References**\n",
    "- https://docs.opencv.org/4.5.2/d4/da8/group__imgcodecs.html\n",
    "\n",
    "\n",
    "> **Note:** You can use any image in place of image_01.jpg and wrap_image.jpg in the code.\n",
    "> \n",
    "> **Note:** You can use any image in place of image_01.jpg and wrap_image.jpg in the code.\n",
    "> \n",
    "#### **Thank You** ##\n",
    "#### **Happy Learning Python** ####"
   ]
  },
  {
   "cell_type": "markdown",
   "metadata": {},
   "source": []
  }
 ],
 "metadata": {
  "kernelspec": {
   "display_name": "Python 3.9.6 64-bit",
   "language": "python",
   "name": "python3"
  },
  "language_info": {
   "codemirror_mode": {
    "name": "ipython",
    "version": 3
   },
   "file_extension": ".py",
   "mimetype": "text/x-python",
   "name": "python",
   "nbconvert_exporter": "python",
   "pygments_lexer": "ipython3",
   "version": "3.9.6"
  },
  "orig_nbformat": 4,
  "vscode": {
   "interpreter": {
    "hash": "f6246b25e200e4c5124e3e61789ac81350562f0761bbcf92ad9e48654207659c"
   }
  }
 },
 "nbformat": 4,
 "nbformat_minor": 2
}
